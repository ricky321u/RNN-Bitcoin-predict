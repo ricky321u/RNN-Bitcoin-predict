{
 "cells": [
  {
   "cell_type": "code",
   "execution_count": 46,
   "metadata": {
    "nbpresent": {
     "id": "d702eb23-c4ba-4b1c-b68f-977e84d9f194"
    }
   },
   "outputs": [
    {
     "data": {
      "text/html": [
       "<div>\n",
       "<style scoped>\n",
       "    .dataframe tbody tr th:only-of-type {\n",
       "        vertical-align: middle;\n",
       "    }\n",
       "\n",
       "    .dataframe tbody tr th {\n",
       "        vertical-align: top;\n",
       "    }\n",
       "\n",
       "    .dataframe thead th {\n",
       "        text-align: right;\n",
       "    }\n",
       "</style>\n",
       "<table border=\"1\" class=\"dataframe\">\n",
       "  <thead>\n",
       "    <tr style=\"text-align: right;\">\n",
       "      <th></th>\n",
       "      <th>Date</th>\n",
       "      <th>Open</th>\n",
       "      <th>High</th>\n",
       "      <th>Low</th>\n",
       "      <th>Close</th>\n",
       "      <th>Adj Close</th>\n",
       "      <th>Volume</th>\n",
       "    </tr>\n",
       "  </thead>\n",
       "  <tbody>\n",
       "    <tr>\n",
       "      <th>0</th>\n",
       "      <td>2010-07-16</td>\n",
       "      <td>0.04951</td>\n",
       "      <td>0.04951</td>\n",
       "      <td>0.04951</td>\n",
       "      <td>0.04951</td>\n",
       "      <td>0.04951</td>\n",
       "      <td>0</td>\n",
       "    </tr>\n",
       "    <tr>\n",
       "      <th>1</th>\n",
       "      <td>2010-07-17</td>\n",
       "      <td>0.04951</td>\n",
       "      <td>0.08585</td>\n",
       "      <td>0.05941</td>\n",
       "      <td>0.08584</td>\n",
       "      <td>0.08584</td>\n",
       "      <td>5</td>\n",
       "    </tr>\n",
       "    <tr>\n",
       "      <th>2</th>\n",
       "      <td>2010-07-18</td>\n",
       "      <td>0.08584</td>\n",
       "      <td>0.09307</td>\n",
       "      <td>0.07723</td>\n",
       "      <td>0.08080</td>\n",
       "      <td>0.08080</td>\n",
       "      <td>49</td>\n",
       "    </tr>\n",
       "    <tr>\n",
       "      <th>3</th>\n",
       "      <td>2010-07-19</td>\n",
       "      <td>0.08080</td>\n",
       "      <td>0.08181</td>\n",
       "      <td>0.07426</td>\n",
       "      <td>0.07474</td>\n",
       "      <td>0.07474</td>\n",
       "      <td>20</td>\n",
       "    </tr>\n",
       "    <tr>\n",
       "      <th>4</th>\n",
       "      <td>2010-07-20</td>\n",
       "      <td>0.07474</td>\n",
       "      <td>0.07921</td>\n",
       "      <td>0.06634</td>\n",
       "      <td>0.07921</td>\n",
       "      <td>0.07921</td>\n",
       "      <td>42</td>\n",
       "    </tr>\n",
       "  </tbody>\n",
       "</table>\n",
       "</div>"
      ],
      "text/plain": [
       "         Date     Open     High      Low    Close  Adj Close  Volume\n",
       "0  2010-07-16  0.04951  0.04951  0.04951  0.04951    0.04951       0\n",
       "1  2010-07-17  0.04951  0.08585  0.05941  0.08584    0.08584       5\n",
       "2  2010-07-18  0.08584  0.09307  0.07723  0.08080    0.08080      49\n",
       "3  2010-07-19  0.08080  0.08181  0.07426  0.07474    0.07474      20\n",
       "4  2010-07-20  0.07474  0.07921  0.06634  0.07921    0.07921      42"
      ]
     },
     "execution_count": 46,
     "metadata": {},
     "output_type": "execute_result"
    }
   ],
   "source": [
    "import numpy as np\n",
    "import matplotlib.pyplot as plt\n",
    "import pandas as pd\n",
    "from sklearn.preprocessing import MinMaxScaler\n",
    "training_set=pd.read_csv('BTCtrain.csv')   #reading csv file\n",
    "training_set.head()\t\t\t   #print first five rows 不給參數就自動印出前五行"
   ]
  },
  {
   "cell_type": "code",
   "execution_count": 47,
   "metadata": {
    "nbpresent": {
     "id": "159e5f3d-c5e0-4ac4-9f31-a2b7e1947cf2"
    }
   },
   "outputs": [
    {
     "data": {
      "text/html": [
       "<div>\n",
       "<style scoped>\n",
       "    .dataframe tbody tr th:only-of-type {\n",
       "        vertical-align: middle;\n",
       "    }\n",
       "\n",
       "    .dataframe tbody tr th {\n",
       "        vertical-align: top;\n",
       "    }\n",
       "\n",
       "    .dataframe thead th {\n",
       "        text-align: right;\n",
       "    }\n",
       "</style>\n",
       "<table border=\"1\" class=\"dataframe\">\n",
       "  <thead>\n",
       "    <tr style=\"text-align: right;\">\n",
       "      <th></th>\n",
       "      <th>Open</th>\n",
       "    </tr>\n",
       "  </thead>\n",
       "  <tbody>\n",
       "    <tr>\n",
       "      <th>0</th>\n",
       "      <td>0.04951</td>\n",
       "    </tr>\n",
       "    <tr>\n",
       "      <th>1</th>\n",
       "      <td>0.04951</td>\n",
       "    </tr>\n",
       "    <tr>\n",
       "      <th>2</th>\n",
       "      <td>0.08584</td>\n",
       "    </tr>\n",
       "    <tr>\n",
       "      <th>3</th>\n",
       "      <td>0.08080</td>\n",
       "    </tr>\n",
       "    <tr>\n",
       "      <th>4</th>\n",
       "      <td>0.07474</td>\n",
       "    </tr>\n",
       "  </tbody>\n",
       "</table>\n",
       "</div>"
      ],
      "text/plain": [
       "      Open\n",
       "0  0.04951\n",
       "1  0.04951\n",
       "2  0.08584\n",
       "3  0.08080\n",
       "4  0.07474"
      ]
     },
     "execution_count": 47,
     "metadata": {},
     "output_type": "execute_result"
    }
   ],
   "source": [
    "training_set1=training_set.iloc[:,1:2] \t   #全部,selecting the second column Open的數據\n",
    "training_set1.head()\t\t\t   #print first five rows"
   ]
  },
  {
   "cell_type": "code",
   "execution_count": 48,
   "metadata": {
    "nbpresent": {
     "id": "12f7ce61-d369-4544-99d4-8ff485f0799d"
    }
   },
   "outputs": [
    {
     "data": {
      "text/plain": [
       "array([[  4.95100000e-02],\n",
       "       [  4.95100000e-02],\n",
       "       [  8.58400000e-02],\n",
       "       ..., \n",
       "       [  9.90604004e+03],\n",
       "       [  9.84804981e+03],\n",
       "       [  9.94708008e+03]])"
      ]
     },
     "execution_count": 48,
     "metadata": {},
     "output_type": "execute_result"
    }
   ],
   "source": [
    "training_set1=training_set1.values\t   #converting to 2d array 把training_set1的數據轉變為一個array方便後面使用\n",
    "training_set1\t\t\t\t   #print the whole data"
   ]
  },
  {
   "cell_type": "code",
   "execution_count": 49,
   "metadata": {
    "nbpresent": {
     "id": "0daef288-5d01-4e02-8b9b-b86162c54b3c"
    }
   },
   "outputs": [
    {
     "data": {
      "text/plain": [
       "array([[  0.00000000e+00],\n",
       "       [  0.00000000e+00],\n",
       "       [  3.65234627e-06],\n",
       "       ..., \n",
       "       [  9.95874142e-01],\n",
       "       [  9.90044238e-01],\n",
       "       [  1.00000000e+00]])"
      ]
     },
     "execution_count": 49,
     "metadata": {},
     "output_type": "execute_result"
    }
   ],
   "source": [
    "sc = MinMaxScaler()\t\t\t   #scaling using normalisation\n",
    "training_set1 = sc.fit_transform(training_set1) #從0到1重新排列\n",
    "training_set1"
   ]
  },
  {
   "cell_type": "code",
   "execution_count": 50,
   "metadata": {
    "nbpresent": {
     "id": "c4524536-cffc-4e71-9b64-96fbf8d21edf"
    }
   },
   "outputs": [
    {
     "data": {
      "text/plain": [
       "array([[  0.00000000e+00],\n",
       "       [  0.00000000e+00],\n",
       "       [  3.65234627e-06],\n",
       "       ..., \n",
       "       [  9.78440783e-01],\n",
       "       [  9.95874142e-01],\n",
       "       [  9.90044238e-01]])"
      ]
     },
     "execution_count": 50,
     "metadata": {},
     "output_type": "execute_result"
    }
   ],
   "source": [
    "xtrain=training_set1[0:2694]\t\t   #input values of rows [0-2694] \n",
    "xtrain"
   ]
  },
  {
   "cell_type": "code",
   "execution_count": 51,
   "metadata": {
    "nbpresent": {
     "id": "2188026b-99d2-4ab7-8f48-01e55f5bc416"
    }
   },
   "outputs": [
    {
     "data": {
      "text/plain": [
       "array([[  0.00000000e+00],\n",
       "       [  3.65234627e-06],\n",
       "       [  3.14566240e-06],\n",
       "       ..., \n",
       "       [  9.95874142e-01],\n",
       "       [  9.90044238e-01],\n",
       "       [  1.00000000e+00]])"
      ]
     },
     "execution_count": 51,
     "metadata": {},
     "output_type": "execute_result"
    }
   ],
   "source": [
    "ytrain=training_set1[1:2695]\t\t   #input values of rows [1-2695] \n",
    "ytrain"
   ]
  },
  {
   "cell_type": "code",
   "execution_count": 53,
   "metadata": {
    "nbpresent": {
     "id": "d69a68d9-6309-4c9b-aa59-72b673d1389b"
    }
   },
   "outputs": [
    {
     "data": {
      "text/plain": [
       "array([[[  0.00000000e+00]],\n",
       "\n",
       "       [[  0.00000000e+00]],\n",
       "\n",
       "       [[  3.65234627e-06]],\n",
       "\n",
       "       ..., \n",
       "       [[  9.78440783e-01]],\n",
       "\n",
       "       [[  9.95874142e-01]],\n",
       "\n",
       "       [[  9.90044238e-01]]])"
      ]
     },
     "execution_count": 53,
     "metadata": {},
     "output_type": "execute_result"
    }
   ],
   "source": [
    "xtrain = np.reshape(xtrain, (2694, 1, 1)) #為了LSTM固定的格式 bashsize,timestamp,dimension\n",
    "xtrain"
   ]
  },
  {
   "cell_type": "code",
   "execution_count": 54,
   "metadata": {
    "nbpresent": {
     "id": "50857440-4dc9-4a96-87b1-d248113d7e41"
    }
   },
   "outputs": [
    {
     "name": "stdout",
     "output_type": "stream",
     "text": [
      "Epoch 1/50\n",
      "2694/2694 [==============================] - 1s - loss: 0.0776     \n",
      "Epoch 2/50\n",
      "2694/2694 [==============================] - 0s - loss: 0.0270     \n",
      "Epoch 3/50\n",
      "2694/2694 [==============================] - 0s - loss: 0.0153     \n",
      "Epoch 4/50\n",
      "2694/2694 [==============================] - 0s - loss: 0.0136     \n",
      "Epoch 5/50\n",
      "2694/2694 [==============================] - 0s - loss: 0.0132     \n",
      "Epoch 6/50\n",
      "2694/2694 [==============================] - 0s - loss: 0.0130     \n",
      "Epoch 7/50\n",
      "2694/2694 [==============================] - 0s - loss: 0.0128     \n",
      "Epoch 8/50\n",
      "2694/2694 [==============================] - 0s - loss: 0.0126     \n",
      "Epoch 9/50\n",
      "2694/2694 [==============================] - 0s - loss: 0.0124     \n",
      "Epoch 10/50\n",
      "2694/2694 [==============================] - 0s - loss: 0.0122     \n",
      "Epoch 11/50\n",
      "2694/2694 [==============================] - 0s - loss: 0.0119     \n",
      "Epoch 12/50\n",
      "2694/2694 [==============================] - 0s - loss: 0.0117     \n",
      "Epoch 13/50\n",
      "2694/2694 [==============================] - 0s - loss: 0.0114     \n",
      "Epoch 14/50\n",
      "2694/2694 [==============================] - 0s - loss: 0.0112     \n",
      "Epoch 15/50\n",
      "2694/2694 [==============================] - 0s - loss: 0.0109     \n",
      "Epoch 16/50\n",
      "2694/2694 [==============================] - 0s - loss: 0.0106     \n",
      "Epoch 17/50\n",
      "2694/2694 [==============================] - 0s - loss: 0.0103     \n",
      "Epoch 18/50\n",
      "2694/2694 [==============================] - 0s - loss: 0.0100     \n",
      "Epoch 19/50\n",
      "2694/2694 [==============================] - 0s - loss: 0.0097     \n",
      "Epoch 20/50\n",
      "2694/2694 [==============================] - 0s - loss: 0.0094     \n",
      "Epoch 21/50\n",
      "2694/2694 [==============================] - 0s - loss: 0.0090     \n",
      "Epoch 22/50\n",
      "2694/2694 [==============================] - 0s - loss: 0.0086     \n",
      "Epoch 23/50\n",
      "2694/2694 [==============================] - 0s - loss: 0.0083     \n",
      "Epoch 24/50\n",
      "2694/2694 [==============================] - 0s - loss: 0.0078     \n",
      "Epoch 25/50\n",
      "2694/2694 [==============================] - 0s - loss: 0.0074     \n",
      "Epoch 26/50\n",
      "2694/2694 [==============================] - 0s - loss: 0.0070     \n",
      "Epoch 27/50\n",
      "2694/2694 [==============================] - 0s - loss: 0.0065     \n",
      "Epoch 28/50\n",
      "2694/2694 [==============================] - 0s - loss: 0.0060     \n",
      "Epoch 29/50\n",
      "2694/2694 [==============================] - 0s - loss: 0.0056     \n",
      "Epoch 30/50\n",
      "2694/2694 [==============================] - 0s - loss: 0.0051     \n",
      "Epoch 31/50\n",
      "2694/2694 [==============================] - 0s - loss: 0.0046     \n",
      "Epoch 32/50\n",
      "2694/2694 [==============================] - 0s - loss: 0.0042     \n",
      "Epoch 33/50\n",
      "2694/2694 [==============================] - 0s - loss: 0.0037     \n",
      "Epoch 34/50\n",
      "2694/2694 [==============================] - 0s - loss: 0.0033     \n",
      "Epoch 35/50\n",
      "2694/2694 [==============================] - 0s - loss: 0.0029     \n",
      "Epoch 36/50\n",
      "2694/2694 [==============================] - 0s - loss: 0.0025     \n",
      "Epoch 37/50\n",
      "2694/2694 [==============================] - 0s - loss: 0.0021     \n",
      "Epoch 38/50\n",
      "2694/2694 [==============================] - 0s - loss: 0.0018     \n",
      "Epoch 39/50\n",
      "2694/2694 [==============================] - 0s - loss: 0.0015     \n",
      "Epoch 40/50\n",
      "2694/2694 [==============================] - 0s - loss: 0.0012     \n",
      "Epoch 41/50\n",
      "2694/2694 [==============================] - 0s - loss: 9.7255e-04     \n",
      "Epoch 42/50\n",
      "2694/2694 [==============================] - 0s - loss: 7.7790e-04     \n",
      "Epoch 43/50\n",
      "2694/2694 [==============================] - 0s - loss: 6.0889e-04     \n",
      "Epoch 44/50\n",
      "2694/2694 [==============================] - 0s - loss: 4.7378e-04     \n",
      "Epoch 45/50\n",
      "2694/2694 [==============================] - 0s - loss: 3.6236e-04     \n",
      "Epoch 46/50\n",
      "2694/2694 [==============================] - 0s - loss: 2.7650e-04     \n",
      "Epoch 47/50\n",
      "2694/2694 [==============================] - 0s - loss: 2.1230e-04     \n",
      "Epoch 48/50\n",
      "2694/2694 [==============================] - 0s - loss: 1.6520e-04     \n",
      "Epoch 49/50\n",
      "2694/2694 [==============================] - 0s - loss: 1.3063e-04     \n",
      "Epoch 50/50\n",
      "2694/2694 [==============================] - 0s - loss: 1.0496e-04     \n"
     ]
    },
    {
     "data": {
      "text/plain": [
       "<keras.callbacks.History at 0x1a27362410>"
      ]
     },
     "execution_count": 54,
     "metadata": {},
     "output_type": "execute_result"
    }
   ],
   "source": [
    "from keras.models import Sequential\n",
    "from keras.layers import Dense\n",
    "from keras.layers import LSTM\n",
    "\n",
    "regressor=Sequential()\t\t\t#initialize the RNN 宣告一個空的model\n",
    "\n",
    "regressor.add(LSTM(units=4,activation='sigmoid',input_shape=(None,1)))\t\t\t#adding input layerand the LSTM layer\n",
    "\n",
    "regressor.add(Dense(units=1))\t\t#adding output layers return value\n",
    "\n",
    "regressor.compile(optimizer='adam',loss='mean_squared_error') \t\t#compiling the RNN adam = gradient decent的方法 \n",
    "\n",
    "regressor.fit(xtrain,ytrain,batch_size=32,epochs=50) #我後面會有真實的RNN訓練"
   ]
  },
  {
   "cell_type": "code",
   "execution_count": 55,
   "metadata": {
    "nbpresent": {
     "id": "01fa2a60-161f-4212-ab48-1dfbb186ce63"
    }
   },
   "outputs": [
    {
     "data": {
      "text/html": [
       "<div>\n",
       "<style scoped>\n",
       "    .dataframe tbody tr th:only-of-type {\n",
       "        vertical-align: middle;\n",
       "    }\n",
       "\n",
       "    .dataframe tbody tr th {\n",
       "        vertical-align: top;\n",
       "    }\n",
       "\n",
       "    .dataframe thead th {\n",
       "        text-align: right;\n",
       "    }\n",
       "</style>\n",
       "<table border=\"1\" class=\"dataframe\">\n",
       "  <thead>\n",
       "    <tr style=\"text-align: right;\">\n",
       "      <th></th>\n",
       "      <th>Date</th>\n",
       "      <th>Open</th>\n",
       "      <th>High</th>\n",
       "      <th>Low</th>\n",
       "      <th>Close</th>\n",
       "      <th>Adj Close</th>\n",
       "      <th>Volume</th>\n",
       "    </tr>\n",
       "  </thead>\n",
       "  <tbody>\n",
       "    <tr>\n",
       "      <th>0</th>\n",
       "      <td>2017-12-01</td>\n",
       "      <td>9947.080078</td>\n",
       "      <td>10942.799805</td>\n",
       "      <td>9420.929688</td>\n",
       "      <td>10861.469727</td>\n",
       "      <td>10861.469727</td>\n",
       "      <td>1353669597</td>\n",
       "    </tr>\n",
       "    <tr>\n",
       "      <th>1</th>\n",
       "      <td>2017-12-02</td>\n",
       "      <td>10861.469727</td>\n",
       "      <td>11175.230469</td>\n",
       "      <td>10715.549805</td>\n",
       "      <td>10912.730469</td>\n",
       "      <td>10912.730469</td>\n",
       "      <td>950474241</td>\n",
       "    </tr>\n",
       "    <tr>\n",
       "      <th>2</th>\n",
       "      <td>2017-12-03</td>\n",
       "      <td>10912.719727</td>\n",
       "      <td>11851.089844</td>\n",
       "      <td>10578.429688</td>\n",
       "      <td>11246.209961</td>\n",
       "      <td>11246.209961</td>\n",
       "      <td>1380012064</td>\n",
       "    </tr>\n",
       "    <tr>\n",
       "      <th>3</th>\n",
       "      <td>2017-12-04</td>\n",
       "      <td>11244.200195</td>\n",
       "      <td>11624.629883</td>\n",
       "      <td>10917.809570</td>\n",
       "      <td>11623.910156</td>\n",
       "      <td>11623.910156</td>\n",
       "      <td>1057859226</td>\n",
       "    </tr>\n",
       "    <tr>\n",
       "      <th>4</th>\n",
       "      <td>2017-12-05</td>\n",
       "      <td>11624.370117</td>\n",
       "      <td>11901.870117</td>\n",
       "      <td>11486.129883</td>\n",
       "      <td>11667.129883</td>\n",
       "      <td>11667.129883</td>\n",
       "      <td>1048839303</td>\n",
       "    </tr>\n",
       "  </tbody>\n",
       "</table>\n",
       "</div>"
      ],
      "text/plain": [
       "         Date          Open          High           Low         Close  \\\n",
       "0  2017-12-01   9947.080078  10942.799805   9420.929688  10861.469727   \n",
       "1  2017-12-02  10861.469727  11175.230469  10715.549805  10912.730469   \n",
       "2  2017-12-03  10912.719727  11851.089844  10578.429688  11246.209961   \n",
       "3  2017-12-04  11244.200195  11624.629883  10917.809570  11623.910156   \n",
       "4  2017-12-05  11624.370117  11901.870117  11486.129883  11667.129883   \n",
       "\n",
       "      Adj Close      Volume  \n",
       "0  10861.469727  1353669597  \n",
       "1  10912.730469   950474241  \n",
       "2  11246.209961  1380012064  \n",
       "3  11623.910156  1057859226  \n",
       "4  11667.129883  1048839303  "
      ]
     },
     "execution_count": 55,
     "metadata": {},
     "output_type": "execute_result"
    }
   ],
   "source": [
    "test_set = pd.read_csv('BTCtest.csv')\n",
    "test_set.head()"
   ]
  },
  {
   "cell_type": "code",
   "execution_count": 56,
   "metadata": {
    "nbpresent": {
     "id": "43a2071d-be83-4bcc-8b74-ea60ff3936e3"
    }
   },
   "outputs": [
    {
     "data": {
      "text/plain": [
       "array([[  9947.080078],\n",
       "       [ 10861.469727],\n",
       "       [ 10912.719727],\n",
       "       [ 11244.200195],\n",
       "       [ 11624.370117],\n",
       "       [ 11667.129883],\n",
       "       [ 13750.089844],\n",
       "       [ 16867.980469]])"
      ]
     },
     "execution_count": 56,
     "metadata": {},
     "output_type": "execute_result"
    }
   ],
   "source": [
    "real_stock_price = test_set.iloc[:,1:2]\t\t#selecting the second column\n",
    "real_stock_price = real_stock_price.values\t#converting to 2D array\n",
    "real_stock_price"
   ]
  },
  {
   "cell_type": "code",
   "execution_count": 57,
   "metadata": {
    "nbpresent": {
     "id": "70feb077-e51b-409e-bceb-6fca4031c57b"
    }
   },
   "outputs": [
    {
     "data": {
      "text/plain": [
       "array([[[ 1.        ]],\n",
       "\n",
       "       [[ 1.09192589]],\n",
       "\n",
       "       [[ 1.09707818]],\n",
       "\n",
       "       [[ 1.13040275]],\n",
       "\n",
       "       [[ 1.16862219]],\n",
       "\n",
       "       [[ 1.17292093]],\n",
       "\n",
       "       [[ 1.38232614]],\n",
       "\n",
       "       [[ 1.69577552]]])"
      ]
     },
     "execution_count": 57,
     "metadata": {},
     "output_type": "execute_result"
    }
   ],
   "source": [
    "inputs = real_stock_price\n",
    "inputs = sc.transform(inputs)\n",
    "inputs = np.reshape(inputs, (8, 1, 1))\n",
    "inputs"
   ]
  },
  {
   "cell_type": "code",
   "execution_count": 58,
   "metadata": {
    "nbpresent": {
     "id": "ca5d8fe9-cbc4-41e0-a356-d1b5d103ba8c"
    }
   },
   "outputs": [
    {
     "data": {
      "text/plain": [
       "array([[  9568.60644531],\n",
       "       [  9992.37988281],\n",
       "       [  9994.52246094],\n",
       "       [ 10007.61328125],\n",
       "       [ 10021.09570312],\n",
       "       [ 10022.515625  ],\n",
       "       [ 10073.40136719],\n",
       "       [ 10108.27148438]], dtype=float32)"
      ]
     },
     "execution_count": 58,
     "metadata": {},
     "output_type": "execute_result"
    }
   ],
   "source": [
    "predicted_stock_price = regressor.predict(inputs) #透過之前做好的RNN來做predict\n",
    "predicted_stock_price = sc.inverse_transform(predicted_stock_price) #從0到1還原到真正的價格\n",
    "predicted_stock_price"
   ]
  },
  {
   "cell_type": "code",
   "execution_count": 59,
   "metadata": {
    "nbpresent": {
     "id": "7ac2a215-8b3a-41fe-9e2e-08d1a5214622"
    }
   },
   "outputs": [
    {
     "data": {
      "image/png": "[encoded data removed]",
      "text/plain": [
       "<matplotlib.figure.Figure at 0x1a25d7be90>"
      ]
     },
     "metadata": {},
     "output_type": "display_data"
    }
   ],
   "source": [
    "plt.plot(real_stock_price, color = 'red', label = 'Real BTC Value')\n",
    "plt.plot(predicted_stock_price, color = 'blue', label = 'Predicted BTC Value')\n",
    "plt.title('BTC Value Prediction')\n",
    "plt.xlabel('Days')\n",
    "plt.ylabel('BTC Value')\n",
    "plt.legend()\n",
    "plt.show()"
   ]
  },
  {
   "cell_type": "code",
   "execution_count": null,
   "metadata": {
    "nbpresent": {
     "id": "0a280208-b584-476c-a8ed-84e289f5a57e"
    }
   },
   "outputs": [],
   "source": []
  }
 ],
 "metadata": {
  "kernelspec": {
   "display_name": "Python [conda env:bitcoin-predict]",
   "language": "python",
   "name": "conda-env-bitcoin-predict-py"
  },
  "language_info": {
   "codemirror_mode": {
    "name": "ipython",
    "version": 2
   },
   "file_extension": ".py",
   "mimetype": "text/x-python",
   "name": "python",
   "nbconvert_exporter": "python",
   "pygments_lexer": "ipython2",
   "version": "2.7.14"
  }
 },
 "nbformat": 4,
 "nbformat_minor": 2
}
